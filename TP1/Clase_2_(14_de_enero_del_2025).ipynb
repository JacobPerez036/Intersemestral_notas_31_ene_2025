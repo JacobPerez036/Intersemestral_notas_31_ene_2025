{
  "nbformat": 4,
  "nbformat_minor": 0,
  "metadata": {
    "colab": {
      "provenance": [],
      "authorship_tag": "ABX9TyO5uroCR5MYdET4ghX8R0d2",
      "include_colab_link": true
    },
    "kernelspec": {
      "name": "python3",
      "display_name": "Python 3"
    },
    "language_info": {
      "name": "python"
    }
  },
  "cells": [
    {
      "cell_type": "markdown",
      "metadata": {
        "id": "view-in-github",
        "colab_type": "text"
      },
      "source": [
        "<a href=\"https://colab.research.google.com/github/JacobPerez036/Intersemestral_notas_31_ene_2025/blob/main/TP1/Clase_2_(14_de_enero_del_2025).ipynb\" target=\"_parent\"><img src=\"https://colab.research.google.com/assets/colab-badge.svg\" alt=\"Open In Colab\"/></a>"
      ]
    },
    {
      "cell_type": "markdown",
      "source": [
        "# Clase 2.\n",
        "Enero 14, 2025\n",
        "\n"
      ],
      "metadata": {
        "id": "gFkxfkpG8JZN"
      }
    },
    {
      "cell_type": "code",
      "source": [
        "\n",
        "def suma(a,b):\n",
        "  '''\n",
        "  Esta función calcula la suma de dos números.\n",
        "\n",
        "  Parámetros:\n",
        "  a (int o float): Primer elemento\n",
        "  b (int o float): Segundo elemento\n",
        "\n",
        "  Esta función retorna:\n",
        "  int o float: Resultado de la suma de a y b\n",
        "\n",
        "  '''\n",
        "  return a + b\n",
        "\n",
        " #Acceder al doctring\n",
        "print(suma.__doc__)"
      ],
      "metadata": {
        "colab": {
          "base_uri": "https://localhost:8080/"
        },
        "id": "tcGDN6IV8Zrd",
        "outputId": "f5ed4ac8-16fe-460f-afce-85c83c4be113"
      },
      "execution_count": null,
      "outputs": [
        {
          "output_type": "stream",
          "name": "stdout",
          "text": [
            "\n",
            "  Esta función calcula la suma de dos números.\n",
            "\n",
            "  Parámetros:\n",
            "  a (int o float): Primer elemento\n",
            "  b (int o float): Segundo elemento\n",
            "\n",
            "  Esta función retorna:\n",
            "  int o float: Resultado de la suma de a y b\n",
            "\n",
            "  \n"
          ]
        }
      ]
    },
    {
      "cell_type": "code",
      "source": [
        "# Controles de flujo\n",
        "\n",
        "print(''' El control de flujo permite dirigir la ejecución del programa,\n",
        "basándose en condiciones o repeticiones''')"
      ],
      "metadata": {
        "colab": {
          "base_uri": "https://localhost:8080/"
        },
        "id": "r3pqgsEC80fX",
        "outputId": "327fad5f-f22a-48e3-adf3-8f5b55426d4a"
      },
      "execution_count": null,
      "outputs": [
        {
          "output_type": "stream",
          "name": "stdout",
          "text": [
            " El control de flujo permite dirigir la ejecución del programa,\n",
            "basándose en condiciones o repeticiones\n"
          ]
        }
      ]
    },
    {
      "cell_type": "code",
      "source": [
        "# Ejemplo\n",
        "\n",
        "edad = int(input('Introduce tu edad:'))\n",
        "if edad <18:\n",
        "  print('Menor de edad')\n",
        "elif 18 <= edad < 65:\n",
        "  print('Adulto')\n",
        "else:\n",
        "  print('Adulto... mayor.')"
      ],
      "metadata": {
        "colab": {
          "base_uri": "https://localhost:8080/"
        },
        "id": "EUYn9o669Ynb",
        "outputId": "09a2b9e2-7a94-4541-94c9-e7a269dbd243"
      },
      "execution_count": null,
      "outputs": [
        {
          "output_type": "stream",
          "name": "stdout",
          "text": [
            "Introduce tu edad:66\n",
            "Adulto... mayor.\n"
          ]
        }
      ]
    },
    {
      "cell_type": "markdown",
      "source": [
        "## 0.1 Listas\n",
        "\n",
        "Una lista en Python, es una estructura de datos que permite almacenar múltiples elementos ordenados.\n",
        "\n",
        "Es una colección mutable, lo que significa que sus elementos pueden ser modificados (agregar, eliminar o cambiar elementos), despuén de su creación.\n",
        "\n",
        "##0.1.1 Caractaerísticas\n",
        "\n",
        "- Ordenadas. Los elementos tienen un índice que comienza en 0.\n",
        "\n",
        "- Mutables. Pueden modificar su contenido.\n",
        "\n",
        "- Tipos de datos mixtos. Una lista puede contener diferentes tipos de datos.\n",
        "\n",
        "- Representación: Se delimitan por corchetes \"[ ]\", y los elementos están separados por comas \" , \".\n",
        "\n",
        "\n",
        "\n"
      ],
      "metadata": {
        "id": "I557YB5x-L2Y"
      }
    },
    {
      "cell_type": "code",
      "source": [
        "# Ejemplo de una lista\n",
        "\n",
        "mi_lista = [1,2,3.1,'Intersemestral', True]\n",
        "\n",
        "print(mi_lista)\n",
        "print(mi_lista[0])\n",
        "print(mi_lista[3])\n",
        "print(mi_lista[1])"
      ],
      "metadata": {
        "colab": {
          "base_uri": "https://localhost:8080/"
        },
        "id": "Tb7hxfWT98lk",
        "outputId": "b2a84e10-4864-4215-d886-38f4bdbc7be3"
      },
      "execution_count": null,
      "outputs": [
        {
          "output_type": "stream",
          "name": "stdout",
          "text": [
            "[1, 2, 3.1, 'Intersemestral', True]\n",
            "1\n",
            "Intersemestral\n",
            "2\n"
          ]
        }
      ]
    },
    {
      "cell_type": "code",
      "source": [
        "# Modificar elemento de mi lista\n",
        "\n",
        "mi_lista[2] = 'Python'\n",
        "\n",
        "print(mi_lista)"
      ],
      "metadata": {
        "colab": {
          "base_uri": "https://localhost:8080/"
        },
        "id": "_oRULYR2_JfO",
        "outputId": "f4ac258c-307c-4584-b2d9-f8e420e6159f"
      },
      "execution_count": null,
      "outputs": [
        {
          "output_type": "stream",
          "name": "stdout",
          "text": [
            "[1, 2, 'Python', 'Intersemestral', True]\n"
          ]
        }
      ]
    },
    {
      "cell_type": "code",
      "source": [
        "# Agregar un elemento\n",
        "\n",
        "mi_lista.append(2.2)\n",
        "print(mi_lista)"
      ],
      "metadata": {
        "colab": {
          "base_uri": "https://localhost:8080/"
        },
        "id": "f7sFW4Cm_xuP",
        "outputId": "357f65cc-ca59-4f63-88e2-d6fb827eabe6"
      },
      "execution_count": null,
      "outputs": [
        {
          "output_type": "stream",
          "name": "stdout",
          "text": [
            "[1, 2, 'Python', 'Intersemestral', True, 2.2, 2.2]\n"
          ]
        }
      ]
    },
    {
      "cell_type": "code",
      "source": [
        "mi_lista.append(True)\n",
        "mi_lista.append(False)\n",
        "print(mi_lista)"
      ],
      "metadata": {
        "colab": {
          "base_uri": "https://localhost:8080/"
        },
        "id": "Oe2c7AoXAFqY",
        "outputId": "06345dd6-afb7-4e66-9915-0f919c79a9e4"
      },
      "execution_count": null,
      "outputs": [
        {
          "output_type": "stream",
          "name": "stdout",
          "text": [
            "[1, 2, 'Python', 'Intersemestral', True, 2.2, 2.2, True, True, False, True, False, True, False, True, False, True, False, True, False, True, False]\n"
          ]
        }
      ]
    },
    {
      "cell_type": "code",
      "source": [
        "# Eliminar\n",
        "\n",
        "mi_lista.remove(True)\n",
        "\n",
        "print(mi_lista)"
      ],
      "metadata": {
        "colab": {
          "base_uri": "https://localhost:8080/"
        },
        "id": "4Az82ZBKAnXh",
        "outputId": "2f5860a9-cd9e-436f-e6e4-4044f2abd93e"
      },
      "execution_count": null,
      "outputs": [
        {
          "output_type": "stream",
          "name": "stdout",
          "text": [
            "[2, 'Python', 'Intersemestral', 2.2, True, True, False]\n"
          ]
        }
      ]
    },
    {
      "cell_type": "code",
      "source": [],
      "metadata": {
        "id": "ek3S-T2oj19h"
      },
      "execution_count": null,
      "outputs": []
    },
    {
      "cell_type": "code",
      "source": [
        "mi_lista.remove(False)\n",
        "print(mi_lista)"
      ],
      "metadata": {
        "colab": {
          "base_uri": "https://localhost:8080/"
        },
        "id": "EbOMFJEjAwus",
        "outputId": "a84892e6-550b-4792-8276-4667fa2d834a"
      },
      "execution_count": null,
      "outputs": [
        {
          "output_type": "stream",
          "name": "stdout",
          "text": [
            "[2, 'Python', 'Intersemestral', 2.2, True, True]\n"
          ]
        }
      ]
    },
    {
      "cell_type": "code",
      "source": [
        "# Longitud de la lista\n",
        "\n",
        "print(len(mi_lista))"
      ],
      "metadata": {
        "colab": {
          "base_uri": "https://localhost:8080/"
        },
        "id": "jyTRoBAEBdQZ",
        "outputId": "b024fc39-170c-481f-f2ba-ffdd57afe4b1"
      },
      "execution_count": null,
      "outputs": [
        {
          "output_type": "stream",
          "name": "stdout",
          "text": [
            "6\n"
          ]
        }
      ]
    },
    {
      "cell_type": "markdown",
      "source": [
        "## 0.2 Tuplas\n",
        "U a tupla en python, es una estructura de datos que permite almacenar múltiples elementos ordenados, pero es inmutable. Lo que significa que no se puede modificar después de su creación.\n",
        "\n",
        "- Ordenada\n",
        "- Inmutable\n",
        "- Tipos de datos mixtos.\n",
        "- Representación. Se define mediante paréntesis \"( )\" y sus elementos están separados por comas \" , \"\n",
        "\n"
      ],
      "metadata": {
        "id": "ynxxwuyNJFKh"
      }
    },
    {
      "cell_type": "code",
      "source": [
        "#Tupla\n",
        "\n",
        "mi_tupla =[1,2,3.1,'Intersemestral',True]\n",
        "\n",
        "print(mi_tupla)"
      ],
      "metadata": {
        "colab": {
          "base_uri": "https://localhost:8080/"
        },
        "id": "lcifD-TIBjCe",
        "outputId": "1d49c1d0-473b-44e2-8b31-bc7cbe1021d9"
      },
      "execution_count": null,
      "outputs": [
        {
          "output_type": "stream",
          "name": "stdout",
          "text": [
            "[1, 2, 3.1, 'Intersemestral', True]\n"
          ]
        }
      ]
    },
    {
      "cell_type": "code",
      "source": [
        "# Acceder a un elemento\n",
        "\n",
        "print(mi_tupla[0])"
      ],
      "metadata": {
        "colab": {
          "base_uri": "https://localhost:8080/"
        },
        "id": "IzsuloXCJqCn",
        "outputId": "319bbdd7-5f6f-4e9b-ee5b-552d3b419429"
      },
      "execution_count": null,
      "outputs": [
        {
          "output_type": "stream",
          "name": "stdout",
          "text": [
            "1\n"
          ]
        }
      ]
    },
    {
      "cell_type": "code",
      "source": [
        "# Longitud de una tupla\n",
        "\n",
        "print(len(mi_tupla))"
      ],
      "metadata": {
        "colab": {
          "base_uri": "https://localhost:8080/"
        },
        "id": "6bhOVJutJvy2",
        "outputId": "cf9133f0-f181-4490-c458-2b3d066ea042"
      },
      "execution_count": null,
      "outputs": [
        {
          "output_type": "stream",
          "name": "stdout",
          "text": [
            "5\n"
          ]
        }
      ]
    },
    {
      "cell_type": "markdown",
      "source": [
        "## 0.3 Diccionarios\n",
        "\n",
        "Los diccionarios son colecciones de pares clave - valor. Se utiliza para almacenar datos de manera organizada, donde cada clave es única y está asociada a un valor.\n",
        "\n",
        "Los diccionarios son estructuras de datos. A diferencia de las listas y tuplas, los diccionarios no estan indexados por posiciones numéricas, sino por claves que pueden ser de cualquier tipo inmutable.\n",
        "\n",
        "Uso.\n",
        "- Representar datos estructurados, como registros o configuraciones\n",
        "- Asociar identificadores mixtos a valores.\n"
      ],
      "metadata": {
        "id": "cxXC7s3XOXxd"
      }
    },
    {
      "cell_type": "code",
      "source": [
        "# Crear un diccionario\n",
        "\n",
        "mi_diccionario ={'nombre': 'Jacob','edad': 22, 'Ciudad': 'Ciudad de México'}\n",
        "\n",
        "print(mi_diccionario)"
      ],
      "metadata": {
        "colab": {
          "base_uri": "https://localhost:8080/"
        },
        "id": "XkvWqrYkOVZK",
        "outputId": "4b3fa4f9-caf2-4f47-facd-505545d70e62"
      },
      "execution_count": null,
      "outputs": [
        {
          "output_type": "stream",
          "name": "stdout",
          "text": [
            "{'nombre': 'Jacob', 'edad': 22, 'Ciudad': 'Ciudad de México'}\n"
          ]
        }
      ]
    },
    {
      "cell_type": "code",
      "source": [
        "print(mi_diccionario['edad'])"
      ],
      "metadata": {
        "colab": {
          "base_uri": "https://localhost:8080/"
        },
        "id": "7bL-jRk0PakP",
        "outputId": "08dca703-e9a5-44fb-c139-0fad16c40554"
      },
      "execution_count": null,
      "outputs": [
        {
          "output_type": "stream",
          "name": "stdout",
          "text": [
            "22\n"
          ]
        }
      ]
    },
    {
      "cell_type": "code",
      "source": [
        "print(mi_diccionario['Ciudad'])"
      ],
      "metadata": {
        "colab": {
          "base_uri": "https://localhost:8080/"
        },
        "id": "J5YUizkQPfm8",
        "outputId": "3c8feb92-87c8-43ef-adf2-907e78b1f14a"
      },
      "execution_count": null,
      "outputs": [
        {
          "output_type": "stream",
          "name": "stdout",
          "text": [
            "Ciudad de México\n"
          ]
        }
      ]
    },
    {
      "cell_type": "code",
      "source": [
        "print(mi_diccionario['nombre'])"
      ],
      "metadata": {
        "colab": {
          "base_uri": "https://localhost:8080/"
        },
        "id": "pvZ02cHoPkPC",
        "outputId": "f6a250f5-61ba-41c0-f3e5-221e2c089ed9"
      },
      "execution_count": null,
      "outputs": [
        {
          "output_type": "stream",
          "name": "stdout",
          "text": [
            "Jacob\n"
          ]
        }
      ]
    },
    {
      "cell_type": "code",
      "source": [
        "# Métodos comúnes\n",
        "'''\n",
        "La función \".keys\", permite obtener las claves del diccionario, es decir,\n",
        "los nombres que se le han dado a cada elemento presente en él.\n",
        "'''\n",
        "print(mi_diccionario.keys())"
      ],
      "metadata": {
        "colab": {
          "base_uri": "https://localhost:8080/"
        },
        "id": "Ueeg8cf2QFIF",
        "outputId": "6bd82219-1640-4bdd-b1bb-4738cf3f5e8d"
      },
      "execution_count": null,
      "outputs": [
        {
          "output_type": "stream",
          "name": "stdout",
          "text": [
            "dict_keys(['nombre', 'edad', 'Ciudad'])\n"
          ]
        }
      ]
    },
    {
      "cell_type": "code",
      "source": [
        "print(mi_diccionario.values())\n",
        "'''\n",
        "La función \".values\", permite obtener todos los valores ingresados\n",
        "en el diccionario.\n",
        "\n",
        "'''"
      ],
      "metadata": {
        "colab": {
          "base_uri": "https://localhost:8080/"
        },
        "id": "_HkeKrCXQPPe",
        "outputId": "36bf9353-fc6c-46a6-e5aa-24477c95cc5b"
      },
      "execution_count": null,
      "outputs": [
        {
          "output_type": "stream",
          "name": "stdout",
          "text": [
            "dict_values(['Jacob', 22, 'Ciudad de México'])\n"
          ]
        }
      ]
    },
    {
      "cell_type": "code",
      "source": [
        "print(mi_diccionario.keys())\n",
        "print(mi_diccionario.values())"
      ],
      "metadata": {
        "colab": {
          "base_uri": "https://localhost:8080/"
        },
        "id": "qtFyIWLGQzBL",
        "outputId": "19154f80-5d62-4688-fa6b-8dfa87e21287"
      },
      "execution_count": null,
      "outputs": [
        {
          "output_type": "stream",
          "name": "stdout",
          "text": [
            "dict_keys(['nombre', 'edad', 'Ciudad'])\n",
            "dict_values(['Jacob', 22, 'Ciudad de México'])\n"
          ]
        }
      ]
    },
    {
      "cell_type": "code",
      "source": [
        "mi_diccionario['edad'] = 27\n",
        "print(mi_diccionario)"
      ],
      "metadata": {
        "colab": {
          "base_uri": "https://localhost:8080/"
        },
        "id": "H2kXrg5uRM2Y",
        "outputId": "40de03ba-64bb-4b09-e21f-547214cd854b"
      },
      "execution_count": null,
      "outputs": [
        {
          "output_type": "stream",
          "name": "stdout",
          "text": [
            "{'nombre': 'Jacob', 'edad': 27, 'Ciudad': 'Ciudad de México'}\n"
          ]
        }
      ]
    },
    {
      "cell_type": "code",
      "source": [
        "mi_diccionario['Ciudad'] = 'Zúrich'\n",
        "print(mi_diccionario)"
      ],
      "metadata": {
        "colab": {
          "base_uri": "https://localhost:8080/"
        },
        "id": "JXLhykJqRdmf",
        "outputId": "3fd344f3-327c-4fcf-c2c4-2aa8bb4cb0c6"
      },
      "execution_count": null,
      "outputs": [
        {
          "output_type": "stream",
          "name": "stdout",
          "text": [
            "{'nombre': 'Jacob', 'edad': 27, 'Ciudad': 'Zúrich'}\n"
          ]
        }
      ]
    },
    {
      "cell_type": "code",
      "source": [
        "mi_diccionario['nombre'] = 'Montserrat'\n",
        "print(mi_diccionario)"
      ],
      "metadata": {
        "colab": {
          "base_uri": "https://localhost:8080/"
        },
        "id": "QWN45tkgR41g",
        "outputId": "9f4dd5b1-8610-483e-9bda-6b8701c44f93"
      },
      "execution_count": null,
      "outputs": [
        {
          "output_type": "stream",
          "name": "stdout",
          "text": [
            "{'nombre': 'Montserrat', 'edad': 27, 'Ciudad': 'Zúrich'}\n"
          ]
        }
      ]
    },
    {
      "cell_type": "markdown",
      "source": [
        "## 0.4 Módulos y paquetes\n",
        "\n",
        "Un módulo es un archivo de Python que contiene definiciones y declaraciones que pueden ser reutilizadas en otros programas. Un paquete es una colección de módulos organizados en directorios.\n",
        "\n",
        "Ventajas:\n",
        "\n",
        "- Fomenta la reutilización de códigos.\n",
        "- Facilita la organización de proyectos grandes\n",
        "- Permite el uso de bibliotecas externas.\n",
        "\n",
        "Tipos de módulos:\n",
        "\n",
        "Módulo estándar: Proporcionados por Python, como math, os, random.\n",
        "\n",
        "Módulos perzonalizados: Creados por el usuario para funciones específicas.\n",
        "\n",
        "Bibliotecas externas: Instaladas con la herramienta pip.\n"
      ],
      "metadata": {
        "id": "fhub-yZQSTj0"
      }
    },
    {
      "cell_type": "code",
      "source": [
        "import math\n",
        "'''\n",
        "\"math\", es ejemplo de un módulo estándar, pues proporciona funciones matemáticas\n",
        "definidas en el estándar de C que reducen muchas líneas de código\n",
        "al momento de escribir algún programa.\n",
        "\n",
        "Como dato curioso.\n",
        "Si se requiere trabajar con números complejos, puede usarse el módulo\n",
        "\"cmath\".\n",
        "\n",
        "'''\n",
        "\n",
        "print(math.sqrt(16))"
      ],
      "metadata": {
        "colab": {
          "base_uri": "https://localhost:8080/"
        },
        "id": "DtZFD0PMSOAw",
        "outputId": "a37d1f5a-29e1-4ac2-edeb-5a97a8612af1"
      },
      "execution_count": null,
      "outputs": [
        {
          "output_type": "stream",
          "name": "stdout",
          "text": [
            "4.0\n"
          ]
        }
      ]
    },
    {
      "cell_type": "code",
      "source": [
        "# mis_utilidades.py\n",
        "\n",
        "def sumar(a, b):\n",
        "  return a + b\n",
        "\n",
        "'''\n",
        "form mis utilidades import sumar\n",
        "\n",
        "print(sumar(a, b))\n",
        "'''"
      ],
      "metadata": {
        "colab": {
          "base_uri": "https://localhost:8080/",
          "height": 35
        },
        "id": "gGD-QczYTOEA",
        "outputId": "a902cfc8-95e3-4d1a-8d76-24858a715d13"
      },
      "execution_count": null,
      "outputs": [
        {
          "output_type": "execute_result",
          "data": {
            "text/plain": [
              "'\\nform mis utilidades import sumar\\n\\nprint(sumar(a, b))\\n'"
            ],
            "application/vnd.google.colaboratory.intrinsic+json": {
              "type": "string"
            }
          },
          "metadata": {},
          "execution_count": 7
        }
      ]
    },
    {
      "cell_type": "markdown",
      "source": [
        "##0.5 POO Programación Orientada a Objetos\n",
        "\n",
        "La POO, es un paradigma que organiza el código en torno a objetos y clases. Permite modelar entidades del mundo real y sus interacciones.\n",
        "\n",
        "Conceptos fundamentales.\n",
        "\n",
        "- Clases. Plantillas para crear objetos, que definen atributos y comportamientos.\n",
        "\n",
        "- Objetos. Instancias de una clase que tienen propiedades y métodos.\n",
        "\n",
        "- Encapsulamiento. Oculta  los detalles internos de un objeto y exponen solo los necesarios.\n",
        "\n",
        "- Herencia. Permite crear nuevas clases basadas en clases existentes.\n",
        "\n",
        "- Polimorfismo. Habilidad de los objetos para responder de manera diferente al mismo método.\n",
        "\n",
        "Beneficios:\n",
        "\n",
        "- Mejora la modularidad y reutilización de código.\n",
        "\n",
        "- Facilita el mantenimiento y escalabilidad de proyectos.\n"
      ],
      "metadata": {
        "id": "usz-os8WR9vy"
      }
    },
    {
      "cell_type": "code",
      "source": [
        "# Clase y objeto\n",
        "class Persona:\n",
        "  def __init__(self, nombre, edad):\n",
        "    self.nombre = nombre\n",
        "    self.edad = edad\n",
        "\n",
        "  def saludar(self):\n",
        "    print(f'Hola, me llamo {self.nombre} y tengo {self.edad} años')\n",
        "\n",
        "persona1 = Persona('Jacob', 22)\n",
        "persona1.saludar()\n"
      ],
      "metadata": {
        "id": "1BskAjcMWRcQ",
        "colab": {
          "base_uri": "https://localhost:8080/"
        },
        "outputId": "7dec9d73-f4bd-4ac6-c2e8-0f55836ea1e4"
      },
      "execution_count": null,
      "outputs": [
        {
          "output_type": "stream",
          "name": "stdout",
          "text": [
            "Hola, me llamo Jacob y tengo 22 años\n"
          ]
        }
      ]
    },
    {
      "cell_type": "code",
      "source": [
        "# Herencia\n",
        "\n",
        "class Estudiante(Persona):\n",
        "  def __init__(self, nombre, edad, nivel_de_poder):\n",
        "    super().__init__(nombre,edad)\n",
        "    self.nivel_de_poder = nivel_de_poder\n",
        "\n",
        "  def nivel(self):\n",
        "    print(f'{self.nombre} tiene un nivel de poder {self.nivel_de_poder}.')\n",
        "\n",
        "estudiante1 = Estudiante('Alan', 25, 'nivel 2')\n",
        "estudiante1.saludar()\n",
        "estudiante1.nivel()"
      ],
      "metadata": {
        "colab": {
          "base_uri": "https://localhost:8080/"
        },
        "id": "xu0hZGEn_vQS",
        "outputId": "1b7c3938-c52d-4447-a676-bd1f3f9b3272"
      },
      "execution_count": null,
      "outputs": [
        {
          "output_type": "stream",
          "name": "stdout",
          "text": [
            "Hola, me llamo Alan y tengo 25 años\n",
            "Alan tiene un nivel de poder nivel 2.\n"
          ]
        }
      ]
    },
    {
      "cell_type": "code",
      "source": [],
      "metadata": {
        "id": "d3H1medUXw2N"
      },
      "execution_count": null,
      "outputs": []
    }
  ]
}