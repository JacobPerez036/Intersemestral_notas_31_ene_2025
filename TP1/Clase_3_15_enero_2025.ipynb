{
  "nbformat": 4,
  "nbformat_minor": 0,
  "metadata": {
    "colab": {
      "provenance": [],
      "authorship_tag": "ABX9TyPZkyp4zg2cvBIgBWkYnNmV",
      "include_colab_link": true
    },
    "kernelspec": {
      "name": "python3",
      "display_name": "Python 3"
    },
    "language_info": {
      "name": "python"
    }
  },
  "cells": [
    {
      "cell_type": "markdown",
      "metadata": {
        "id": "view-in-github",
        "colab_type": "text"
      },
      "source": [
        "<a href=\"https://colab.research.google.com/github/JacobPerez036/Intersemestral_notas_31_ene_2025/blob/main/TP1/Clase_3_15_enero_2025.ipynb\" target=\"_parent\"><img src=\"https://colab.research.google.com/assets/colab-badge.svg\" alt=\"Open In Colab\"/></a>"
      ]
    },
    {
      "cell_type": "code",
      "execution_count": null,
      "metadata": {
        "colab": {
          "base_uri": "https://localhost:8080/"
        },
        "id": "bH0sXg3saR4x",
        "outputId": "315509cb-dcf0-459d-ee4e-0c4f70066446"
      },
      "outputs": [
        {
          "output_type": "stream",
          "name": "stdout",
          "text": [
            "Leonel Messi juega como Delantero en Inter Miami y ha marcado 2 goles\n",
            "Cristiano Ronaldo juega como Delantero en Al Nassr y ha marcado 2 goles\n",
            "Vini Jr juega como Extremo en Real Madrid y ha marcado 1 goles\n"
          ]
        }
      ],
      "source": [
        "# Ejemplo Fútbol\n",
        "# Definimos la clase del jugador\n",
        "\n",
        "class Jugador:\n",
        "     # Definimos el constructor, el cual inicia con los atributos del objeto\n",
        "     def __init__(self, nombre, equipo, posicion):\n",
        "         self.nombre = nombre #Nombre del jugador\n",
        "         self.equipo = equipo #Equipo al que pertenece\n",
        "         self.posicion = posicion #Posición en el campo\n",
        "         self.goles = 0 # Número de goles\n",
        "     # Método para que el jugador marque un gol\n",
        "     def marcar_gol(self):\n",
        "         self.goles +=1 # goles incrementan en 1\n",
        "\n",
        "     # Método para mostrar la información del jugador\n",
        "     def mostrar_info(self):\n",
        "         return f'{self.nombre} juega como {self.posicion} en {self.equipo} y ha marcado {self.goles} goles'\n",
        "\n",
        "# Creamos instancia de la clase (objetos)\n",
        "\n",
        "messi = Jugador('Leonel Messi', 'Inter Miami', 'Delantero') # Objeto 1\n",
        "ronaldo = Jugador('Cristiano Ronaldo', 'Al Nassr', 'Delantero') # Objeto 2\n",
        "Vini = Jugador('Vini Jr', 'Real Madrid', 'Extremo') # Objeto 3\n",
        "\n",
        "# Usamos métodos en el objeto\n",
        "\n",
        "messi.marcar_gol() # Messi Anota un gol\n",
        "messi.marcar_gol() # Messi anota otro gol\n",
        "ronaldo.marcar_gol() # Ronaldo anota un gol\n",
        "ronaldo.marcar_gol() # Ronaldo anota otro gol\n",
        "Vini.marcar_gol() # Vini Anota un gol\n",
        "\n",
        "#Mostramos la información del jugador\n",
        "print(messi.mostrar_info())\n",
        "print(ronaldo.mostrar_info())\n",
        "print(Vini.mostrar_info())\n"
      ]
    },
    {
      "cell_type": "code",
      "source": [
        "# Ejemplo marvel\n",
        "\n",
        "# Clase Base: Personaje\n",
        "class Personaje:\n",
        "  # Constructor que inicia con atributos básicos.\n",
        "  def __init__(self, nombre, universo, habilidades):\n",
        "    self.nombre = nombre\n",
        "    self.universo = universo\n",
        "    self.habilidades = habilidades\n",
        "\n",
        "  # Método para mosrtrar las habilidade del personaje\n",
        "  def mostrar_habilidades(self):\n",
        "    return f\"{self.nombre} tiene las habilidades: {','.join(self.habilidades)}\"\n",
        "    '''\n",
        "    Es interesante hacer notar que en la línea donde está el return se usaron\n",
        "    comillas simples y comillas dobles, esto debido a que no es posible usar\n",
        "    comillas simples cuando ya se han usado dentro de una cadena. Es decir,\n",
        "    si ya usaste comillas simples, ahora usa las dobles. Y si ya usaste las\n",
        "    comillas dobles entonces usa las simples.\n",
        "    '''\n",
        "# Clase derivada: superheroe\n",
        "class Superheroe(Personaje):\n",
        "      def __init__(self, nombre, universo, habilidades):\n",
        "         super().__init__(nombre, universo, habilidades) #Llamamos al constructor de la clase base: class Personaje\n",
        "\n",
        "         self.equipo = equipo # Equipo al que pertenece el superheroe\n",
        "\n",
        "    # Método específico de los super heroes\n",
        "      def salvar_dia(self):\n",
        "         return f'{self.nombre} del equipo {self.equipo} salva el día'\n",
        "\n",
        "# Clase derivada: villano\n",
        "class villano(Personaje):\n",
        "      def __init__(self, nombre, universo, habilidades, plan_maligno):\n",
        "         super().__init__(nombre, universo, habilidades)\n",
        "         self.plan_maligno = plan_maligno\n",
        "\n",
        "    # Método específico para el villano\n",
        "      def ejecutar_plan(self):\n",
        "         return f'{self.nombre} está ejecutando su plan maligno: {self.plan_maligno}'\n",
        "\n",
        "# Creamos las instancias\n",
        "\n",
        "thanos = villano('Thanos', 'Marvel', ['Super fuerza','Manipulación del tiempo'], 'Recoge las gemas del infinito') # Objeto 2 villano\n",
        "\n",
        "#Llamamos a los métodos específicos\n",
        "\n",
        "print(thanos.ejecutar_plan())\n"
      ],
      "metadata": {
        "colab": {
          "base_uri": "https://localhost:8080/"
        },
        "id": "4O213x1U5YiB",
        "outputId": "ac81a66d-3565-4ea2-d49a-ee10e143eff4"
      },
      "execution_count": null,
      "outputs": [
        {
          "output_type": "stream",
          "name": "stdout",
          "text": [
            "Thanos está ejecutando su plan maligno: Recoge las gemas del infinito\n"
          ]
        }
      ]
    },
    {
      "cell_type": "code",
      "source": [
        "import numpy as np"
      ],
      "metadata": {
        "id": "_CwzN_0F5xtS"
      },
      "execution_count": null,
      "outputs": []
    },
    {
      "cell_type": "code",
      "source": [
        "# Crear un arreglo\n",
        "\n",
        "arr = np.array([1,2,3,4,5])\n",
        "print(arr)"
      ],
      "metadata": {
        "colab": {
          "base_uri": "https://localhost:8080/"
        },
        "id": "mtK-v3WoBiBz",
        "outputId": "565fb143-741b-4075-dc63-68a5eb5ffd47"
      },
      "execution_count": null,
      "outputs": [
        {
          "output_type": "stream",
          "name": "stdout",
          "text": [
            "[1 2 3 4 5]\n"
          ]
        }
      ]
    },
    {
      "cell_type": "code",
      "source": [
        "print(arr*2)"
      ],
      "metadata": {
        "colab": {
          "base_uri": "https://localhost:8080/"
        },
        "id": "ljD7Z-lBBnkq",
        "outputId": "b4c85b08-e0c8-40a6-e012-4a0e3879e1d1"
      },
      "execution_count": null,
      "outputs": [
        {
          "output_type": "stream",
          "name": "stdout",
          "text": [
            "[ 2  4  6  8 10]\n"
          ]
        }
      ]
    },
    {
      "cell_type": "code",
      "source": [
        "matriz = np.array([[1,2], [4,5]])\n",
        "print(matriz)"
      ],
      "metadata": {
        "colab": {
          "base_uri": "https://localhost:8080/"
        },
        "id": "28_RdlGfBqCT",
        "outputId": "0a2ae28c-6816-427d-8962-ae76f334857b"
      },
      "execution_count": null,
      "outputs": [
        {
          "output_type": "stream",
          "name": "stdout",
          "text": [
            "[[1 2]\n",
            " [4 5]]\n"
          ]
        }
      ]
    },
    {
      "cell_type": "code",
      "source": [
        "print(np.linalg.inv(matriz))"
      ],
      "metadata": {
        "colab": {
          "base_uri": "https://localhost:8080/"
        },
        "id": "Gem_Lk-uByHN",
        "outputId": "aedea5a4-584d-4cd6-836c-edb3ebf8d8b6"
      },
      "execution_count": null,
      "outputs": [
        {
          "output_type": "stream",
          "name": "stdout",
          "text": [
            "[[-1.66666667  0.66666667]\n",
            " [ 1.33333333 -0.33333333]]\n"
          ]
        }
      ]
    },
    {
      "cell_type": "code",
      "source": [
        "import pandas as pd\n",
        "datos ={'Nombre': ['Juan', 'María', 'Pedro'], 'Edad': [25,30,35]}\n",
        "df =pd.DataFrame(datos)\n",
        "print(df)"
      ],
      "metadata": {
        "colab": {
          "base_uri": "https://localhost:8080/"
        },
        "id": "RysTkmN-B6HF",
        "outputId": "c7441e2e-6f4b-4f7b-b5e9-108e7b6ec412"
      },
      "execution_count": null,
      "outputs": [
        {
          "output_type": "stream",
          "name": "stdout",
          "text": [
            "  Nombre  Edad\n",
            "0   Juan    25\n",
            "1  María    30\n",
            "2  Pedro    35\n"
          ]
        }
      ]
    },
    {
      "cell_type": "code",
      "source": [
        "import matplotlib.pyplot as plt\n",
        "x = np.linspace(0, 10, 100)\n",
        "y = np.sin(x)\n",
        "plt.plot(x,y)\n",
        "plt.show()"
      ],
      "metadata": {
        "colab": {
          "base_uri": "https://localhost:8080/",
          "height": 430
        },
        "id": "LnYIPg7qvUPl",
        "outputId": "98df6c50-e3be-4324-f09c-22c686aed1df"
      },
      "execution_count": null,
      "outputs": [
        {
          "output_type": "display_data",
          "data": {
            "text/plain": [
              "<Figure size 640x480 with 1 Axes>"
            ],
            "image/png": "[encoded data removed]"
          },
          "metadata": {}
        }
      ]
    },
    {
      "cell_type": "code",
      "source": [
        "import matplotlib.pyplot as plt\n",
        "\n",
        "# Crear datos\n",
        "x = [1, 2, 3, 4]\n",
        "y = [10, 20, 30, 40]\n",
        "\n",
        "#Gráfica\n",
        "\n",
        "plt.plot(x,y)\n",
        "plt.title('Mi gráfico')\n",
        "plt.xlabel('Eje X')\n",
        "plt.ylabel('Eje Y')\n",
        "plt.show()"
      ],
      "metadata": {
        "id": "pW58mx-gG4_3",
        "colab": {
          "base_uri": "https://localhost:8080/",
          "height": 472
        },
        "outputId": "da625024-00db-49c0-a3d5-f3e326d4690a"
      },
      "execution_count": null,
      "outputs": [
        {
          "output_type": "display_data",
          "data": {
            "text/plain": [
              "<Figure size 640x480 with 1 Axes>"
            ],
            "image/png": "[encoded data removed]"
          },
          "metadata": {}
        }
      ]
    },
    {
      "cell_type": "code",
      "source": [
        "from scipy.optimize import minimize\n",
        "\n",
        "# Fución a minimizar\n",
        "\n",
        "def funcion(x):\n",
        "    return x**2+5\n",
        "resultado = minimize(funcion, x0 = 2) #Minimizar x^2 + 5 partiendo de x = 2\n",
        "\n",
        "print('Valor mínimo enocntrado', resultado.x)\n"
      ],
      "metadata": {
        "colab": {
          "base_uri": "https://localhost:8080/"
        },
        "id": "AnBaj-O9wg-h",
        "outputId": "0201c4df-fbad-484e-a728-0caebb1488b7"
      },
      "execution_count": null,
      "outputs": [
        {
          "output_type": "stream",
          "name": "stdout",
          "text": [
            "Valor mínimo enocntrado [-1.88846401e-08]\n"
          ]
        }
      ]
    },
    {
      "cell_type": "code",
      "source": [
        "print('''\n",
        "PSEUDOCÓDIGO\n",
        "\n",
        "Inicio\n",
        "1. Definir las matrices A y B\n",
        "2. Verificar que el número de columnas de A sea igual al número de filas que B\n",
        "3. Para cada fila i de A:\n",
        "     Para cada columna j de B:\n",
        "        Calcular el elemento C[i][j] como la suma del producto de elementos correspondientes\n",
        "5. Mostrar la matriz resultante C.\n",
        "''')\n"
      ],
      "metadata": {
        "colab": {
          "base_uri": "https://localhost:8080/"
        },
        "id": "kq6Plg8vx1pP",
        "outputId": "5a386448-9b0a-4b31-dad9-cfaaee73c954"
      },
      "execution_count": null,
      "outputs": [
        {
          "output_type": "stream",
          "name": "stdout",
          "text": [
            "\n",
            "PSEUDOCÓDIGO\n",
            "\n",
            "Inicio\n",
            "1. Definir las matrices A y B\n",
            "2. Verificar que el número de columnas de A sea igual al número de filas que B\n",
            "3. Para cada fila i de A:\n",
            "     Para cada columna j de B:\n",
            "        Calcular el elemento C[i][j] como la suma del producto de elementos correspondientes\n",
            "5. Mostrar la matriz resultante C.\n",
            "\n"
          ]
        }
      ]
    },
    {
      "cell_type": "code",
      "source": [
        "from re import A\n",
        "import numpy as np\n",
        "\n",
        "# Matrices\n",
        "\n",
        "A = np.array([[1,2], [3,4]])\n",
        "B = np.array([[2,0], [1,3]])\n",
        "\n",
        "# Multiplicación\n",
        "\n",
        "C = np.dot(A,B)\n",
        "\n",
        "print('La matriz resultante C es:')\n",
        "print(C)"
      ],
      "metadata": {
        "colab": {
          "base_uri": "https://localhost:8080/"
        },
        "id": "bkLqlv-dyhxy",
        "outputId": "b93b8dc0-171f-45ca-96f8-cf0f796da3b3"
      },
      "execution_count": null,
      "outputs": [
        {
          "output_type": "stream",
          "name": "stdout",
          "text": [
            "La matriz resultante C es:\n",
            "[[ 4  6]\n",
            " [10 12]]\n"
          ]
        }
      ]
    },
    {
      "cell_type": "code",
      "source": [],
      "metadata": {
        "id": "XsoFq_ygy_TB"
      },
      "execution_count": null,
      "outputs": []
    }
  ]
}